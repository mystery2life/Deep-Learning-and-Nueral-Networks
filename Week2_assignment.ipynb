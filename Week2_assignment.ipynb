{
 "cells": [
  {
   "cell_type": "markdown",
   "id": "275211c7",
   "metadata": {},
   "source": [
    "# This is a level 1 heading\n",
    "\n",
    "## This is a level 2 heading\n",
    "\n",
    "This is some plain text that forms a paragraph. Add emphasis via **bold** and __bold__, or *italic* and _italic_. \n",
    "\n",
    "Paragraphs must be separated by an empty line. \n",
    "\n",
    "* Sometimes we want to include lists. \n",
    "* Which can be bulleted using asterisks. \n",
    "\n",
    "1. Lists can also be numbered. \n",
    "2. If we want an ordered list.\n",
    "\n",
    "[It is possible to include hyperlinks](https://www.example.com)\n",
    "\n",
    "Inline code uses single backticks: foo(), and code blocks use triple backticks: \n",
    "```\n",
    "bar()\n",
    "``` \n",
    "Or can be indented by 4 spaces: \n",
    "\n",
    "    foo()\n",
    "\n",
    "And finally, adding images is easy: ![Alt text](https://www.example.com/image.jpg)"
   ]
  },
  {
   "cell_type": "markdown",
   "id": "612c9133",
   "metadata": {},
   "source": [
    "# 1. Read color image and show different channel (10 points)"
   ]
  },
  {
   "cell_type": "code",
   "execution_count": null,
   "id": "c7bdc045",
   "metadata": {},
   "outputs": [],
   "source": [
    "# Please import some important packages here"
   ]
  },
  {
   "cell_type": "code",
   "execution_count": null,
   "id": "55c9b897",
   "metadata": {},
   "outputs": [],
   "source": []
  },
  {
   "cell_type": "markdown",
   "id": "054941e8",
   "metadata": {},
   "source": [
    "# 2. Read bird image and convert it into binary image (10 points)"
   ]
  },
  {
   "cell_type": "code",
   "execution_count": null,
   "id": "a7a62e1e",
   "metadata": {},
   "outputs": [],
   "source": []
  },
  {
   "cell_type": "markdown",
   "id": "373acc6c",
   "metadata": {},
   "source": [
    "# 3. Read eye image and crop it (10 points)"
   ]
  },
  {
   "cell_type": "code",
   "execution_count": null,
   "id": "d15e881d",
   "metadata": {},
   "outputs": [],
   "source": []
  },
  {
   "cell_type": "markdown",
   "id": "1b961f9c",
   "metadata": {},
   "source": [
    "# 4. Read bird and cloud images and add them (10 points)"
   ]
  },
  {
   "cell_type": "code",
   "execution_count": null,
   "id": "92d559ed",
   "metadata": {},
   "outputs": [],
   "source": []
  },
  {
   "cell_type": "markdown",
   "id": "547133d4",
   "metadata": {},
   "source": [
    "# 5. Read bird and cat images, then implement blendImg function (10 points)"
   ]
  },
  {
   "cell_type": "code",
   "execution_count": null,
   "id": "d72a545a",
   "metadata": {},
   "outputs": [],
   "source": []
  },
  {
   "cell_type": "code",
   "execution_count": null,
   "id": "a7c83544",
   "metadata": {},
   "outputs": [],
   "source": []
  },
  {
   "cell_type": "markdown",
   "id": "02b4c4d4",
   "metadata": {},
   "source": [
    "# 6. Read BM_lowCont image and plot the histogram and perform Equalization (10 points)"
   ]
  },
  {
   "cell_type": "code",
   "execution_count": null,
   "id": "b10e0481",
   "metadata": {},
   "outputs": [],
   "source": []
  },
  {
   "cell_type": "markdown",
   "id": "f2674d71",
   "metadata": {},
   "source": [
    "# 7. Read bridge image and add salt & pepper noise (10 points)"
   ]
  },
  {
   "cell_type": "code",
   "execution_count": null,
   "id": "6b0d358f",
   "metadata": {},
   "outputs": [],
   "source": []
  },
  {
   "cell_type": "markdown",
   "id": "c0f21c87",
   "metadata": {},
   "source": [
    "# 8. Plot Gaussian function (10 points)"
   ]
  },
  {
   "cell_type": "code",
   "execution_count": null,
   "id": "3a35b093",
   "metadata": {},
   "outputs": [],
   "source": []
  },
  {
   "cell_type": "markdown",
   "id": "111262b1",
   "metadata": {},
   "source": [
    "# 9. Add random and Gaussian noise (20 points)"
   ]
  },
  {
   "cell_type": "code",
   "execution_count": null,
   "id": "8ee9921a",
   "metadata": {},
   "outputs": [],
   "source": []
  }
 ],
 "metadata": {
  "kernelspec": {
   "display_name": "Python 3 (ipykernel)",
   "language": "python",
   "name": "python3"
  },
  "language_info": {
   "codemirror_mode": {
    "name": "ipython",
    "version": 3
   },
   "file_extension": ".py",
   "mimetype": "text/x-python",
   "name": "python",
   "nbconvert_exporter": "python",
   "pygments_lexer": "ipython3",
   "version": "3.9.13"
  }
 },
 "nbformat": 4,
 "nbformat_minor": 5
}
